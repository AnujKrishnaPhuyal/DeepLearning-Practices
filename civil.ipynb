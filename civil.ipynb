{
  "nbformat": 4,
  "nbformat_minor": 0,
  "metadata": {
    "colab": {
      "provenance": [],
      "authorship_tag": "ABX9TyMabcQlxCW3S0G/hvnEBLsR",
      "include_colab_link": true
    },
    "kernelspec": {
      "name": "python3",
      "display_name": "Python 3"
    },
    "language_info": {
      "name": "python"
    }
  },
  "cells": [
    {
      "cell_type": "markdown",
      "metadata": {
        "id": "view-in-github",
        "colab_type": "text"
      },
      "source": [
        "<a href=\"https://colab.research.google.com/github/AnujKrishnaPhuyal/DeepLearning-Practices/blob/main/civil.ipynb\" target=\"_parent\"><img src=\"https://colab.research.google.com/assets/colab-badge.svg\" alt=\"Open In Colab\"/></a>"
      ]
    },
    {
      "cell_type": "code",
      "execution_count": null,
      "metadata": {
        "id": "6OFTtPyJL0xs"
      },
      "outputs": [],
      "source": [
        "data = '/content/road_data.csv'"
      ]
    },
    {
      "cell_type": "code",
      "source": [
        "import pandas as pd\n",
        "from matplotlib.colors import ListedColormap\n",
        "import torch\n",
        "from torch.utils.data import DataLoader, TensorDataset\n",
        "from sklearn.model_selection import train_test_split\n",
        "import matplotlib.pyplot as plt"
      ],
      "metadata": {
        "id": "qgRcV6DQMkZD"
      },
      "execution_count": null,
      "outputs": []
    },
    {
      "cell_type": "code",
      "source": [
        "df = pd.read_csv('road_data.csv')"
      ],
      "metadata": {
        "id": "ne-sJs7qMm1I"
      },
      "execution_count": null,
      "outputs": []
    },
    {
      "cell_type": "code",
      "source": [
        "df.head(10)"
      ],
      "metadata": {
        "colab": {
          "base_uri": "https://localhost:8080/",
          "height": 363
        },
        "id": "-WHmN0izNEp9",
        "outputId": "5150b887-cc40-4b3d-8245-6fe5cbaed65e"
      },
      "execution_count": null,
      "outputs": [
        {
          "output_type": "execute_result",
          "data": {
            "text/plain": [
              "   Unnamed: 0    ID         a         DS  Lane  y  RLV Driver Behaviour  \\\n",
              "0           0   676 -0.664340  15.354684     1  1   No           Normal   \n",
              "1           1   698 -0.435845  67.143053     1  1   No               AP   \n",
              "2           2   743  0.170864  85.338603     1  0   No           Normal   \n",
              "3           3  1862  0.119444  41.961064     1  1   No           Normal   \n",
              "4           4  1885  0.000000  80.823385     2  1   No               AP   \n",
              "5           5  2985  0.426487  30.320449     1  1   No           Normal   \n",
              "6           6  4343 -1.294951   4.624121     2  1   No           Normal   \n",
              "7           7  4349  0.002208  23.107041     1  1   No           Normal   \n",
              "8           8  4366  0.448625  77.565538     1  1   No               AP   \n",
              "9           9  4378  0.497717  84.326734     1  1  Yes               AP   \n",
              "\n",
              "           v  \n",
              "0  27.537272  \n",
              "1  34.054511  \n",
              "2  29.211065  \n",
              "3  39.489852  \n",
              "4  40.345775  \n",
              "5  29.500287  \n",
              "6  32.409627  \n",
              "7  34.446508  \n",
              "8  35.650107  \n",
              "9  35.198288  "
            ],
            "text/html": [
              "\n",
              "  <div id=\"df-681df6a0-9b02-4b3f-9deb-a47bfe5b552c\" class=\"colab-df-container\">\n",
              "    <div>\n",
              "<style scoped>\n",
              "    .dataframe tbody tr th:only-of-type {\n",
              "        vertical-align: middle;\n",
              "    }\n",
              "\n",
              "    .dataframe tbody tr th {\n",
              "        vertical-align: top;\n",
              "    }\n",
              "\n",
              "    .dataframe thead th {\n",
              "        text-align: right;\n",
              "    }\n",
              "</style>\n",
              "<table border=\"1\" class=\"dataframe\">\n",
              "  <thead>\n",
              "    <tr style=\"text-align: right;\">\n",
              "      <th></th>\n",
              "      <th>Unnamed: 0</th>\n",
              "      <th>ID</th>\n",
              "      <th>a</th>\n",
              "      <th>DS</th>\n",
              "      <th>Lane</th>\n",
              "      <th>y</th>\n",
              "      <th>RLV</th>\n",
              "      <th>Driver Behaviour</th>\n",
              "      <th>v</th>\n",
              "    </tr>\n",
              "  </thead>\n",
              "  <tbody>\n",
              "    <tr>\n",
              "      <th>0</th>\n",
              "      <td>0</td>\n",
              "      <td>676</td>\n",
              "      <td>-0.664340</td>\n",
              "      <td>15.354684</td>\n",
              "      <td>1</td>\n",
              "      <td>1</td>\n",
              "      <td>No</td>\n",
              "      <td>Normal</td>\n",
              "      <td>27.537272</td>\n",
              "    </tr>\n",
              "    <tr>\n",
              "      <th>1</th>\n",
              "      <td>1</td>\n",
              "      <td>698</td>\n",
              "      <td>-0.435845</td>\n",
              "      <td>67.143053</td>\n",
              "      <td>1</td>\n",
              "      <td>1</td>\n",
              "      <td>No</td>\n",
              "      <td>AP</td>\n",
              "      <td>34.054511</td>\n",
              "    </tr>\n",
              "    <tr>\n",
              "      <th>2</th>\n",
              "      <td>2</td>\n",
              "      <td>743</td>\n",
              "      <td>0.170864</td>\n",
              "      <td>85.338603</td>\n",
              "      <td>1</td>\n",
              "      <td>0</td>\n",
              "      <td>No</td>\n",
              "      <td>Normal</td>\n",
              "      <td>29.211065</td>\n",
              "    </tr>\n",
              "    <tr>\n",
              "      <th>3</th>\n",
              "      <td>3</td>\n",
              "      <td>1862</td>\n",
              "      <td>0.119444</td>\n",
              "      <td>41.961064</td>\n",
              "      <td>1</td>\n",
              "      <td>1</td>\n",
              "      <td>No</td>\n",
              "      <td>Normal</td>\n",
              "      <td>39.489852</td>\n",
              "    </tr>\n",
              "    <tr>\n",
              "      <th>4</th>\n",
              "      <td>4</td>\n",
              "      <td>1885</td>\n",
              "      <td>0.000000</td>\n",
              "      <td>80.823385</td>\n",
              "      <td>2</td>\n",
              "      <td>1</td>\n",
              "      <td>No</td>\n",
              "      <td>AP</td>\n",
              "      <td>40.345775</td>\n",
              "    </tr>\n",
              "    <tr>\n",
              "      <th>5</th>\n",
              "      <td>5</td>\n",
              "      <td>2985</td>\n",
              "      <td>0.426487</td>\n",
              "      <td>30.320449</td>\n",
              "      <td>1</td>\n",
              "      <td>1</td>\n",
              "      <td>No</td>\n",
              "      <td>Normal</td>\n",
              "      <td>29.500287</td>\n",
              "    </tr>\n",
              "    <tr>\n",
              "      <th>6</th>\n",
              "      <td>6</td>\n",
              "      <td>4343</td>\n",
              "      <td>-1.294951</td>\n",
              "      <td>4.624121</td>\n",
              "      <td>2</td>\n",
              "      <td>1</td>\n",
              "      <td>No</td>\n",
              "      <td>Normal</td>\n",
              "      <td>32.409627</td>\n",
              "    </tr>\n",
              "    <tr>\n",
              "      <th>7</th>\n",
              "      <td>7</td>\n",
              "      <td>4349</td>\n",
              "      <td>0.002208</td>\n",
              "      <td>23.107041</td>\n",
              "      <td>1</td>\n",
              "      <td>1</td>\n",
              "      <td>No</td>\n",
              "      <td>Normal</td>\n",
              "      <td>34.446508</td>\n",
              "    </tr>\n",
              "    <tr>\n",
              "      <th>8</th>\n",
              "      <td>8</td>\n",
              "      <td>4366</td>\n",
              "      <td>0.448625</td>\n",
              "      <td>77.565538</td>\n",
              "      <td>1</td>\n",
              "      <td>1</td>\n",
              "      <td>No</td>\n",
              "      <td>AP</td>\n",
              "      <td>35.650107</td>\n",
              "    </tr>\n",
              "    <tr>\n",
              "      <th>9</th>\n",
              "      <td>9</td>\n",
              "      <td>4378</td>\n",
              "      <td>0.497717</td>\n",
              "      <td>84.326734</td>\n",
              "      <td>1</td>\n",
              "      <td>1</td>\n",
              "      <td>Yes</td>\n",
              "      <td>AP</td>\n",
              "      <td>35.198288</td>\n",
              "    </tr>\n",
              "  </tbody>\n",
              "</table>\n",
              "</div>\n",
              "    <div class=\"colab-df-buttons\">\n",
              "\n",
              "  <div class=\"colab-df-container\">\n",
              "    <button class=\"colab-df-convert\" onclick=\"convertToInteractive('df-681df6a0-9b02-4b3f-9deb-a47bfe5b552c')\"\n",
              "            title=\"Convert this dataframe to an interactive table.\"\n",
              "            style=\"display:none;\">\n",
              "\n",
              "  <svg xmlns=\"http://www.w3.org/2000/svg\" height=\"24px\" viewBox=\"0 -960 960 960\">\n",
              "    <path d=\"M120-120v-720h720v720H120Zm60-500h600v-160H180v160Zm220 220h160v-160H400v160Zm0 220h160v-160H400v160ZM180-400h160v-160H180v160Zm440 0h160v-160H620v160ZM180-180h160v-160H180v160Zm440 0h160v-160H620v160Z\"/>\n",
              "  </svg>\n",
              "    </button>\n",
              "\n",
              "  <style>\n",
              "    .colab-df-container {\n",
              "      display:flex;\n",
              "      gap: 12px;\n",
              "    }\n",
              "\n",
              "    .colab-df-convert {\n",
              "      background-color: #E8F0FE;\n",
              "      border: none;\n",
              "      border-radius: 50%;\n",
              "      cursor: pointer;\n",
              "      display: none;\n",
              "      fill: #1967D2;\n",
              "      height: 32px;\n",
              "      padding: 0 0 0 0;\n",
              "      width: 32px;\n",
              "    }\n",
              "\n",
              "    .colab-df-convert:hover {\n",
              "      background-color: #E2EBFA;\n",
              "      box-shadow: 0px 1px 2px rgba(60, 64, 67, 0.3), 0px 1px 3px 1px rgba(60, 64, 67, 0.15);\n",
              "      fill: #174EA6;\n",
              "    }\n",
              "\n",
              "    .colab-df-buttons div {\n",
              "      margin-bottom: 4px;\n",
              "    }\n",
              "\n",
              "    [theme=dark] .colab-df-convert {\n",
              "      background-color: #3B4455;\n",
              "      fill: #D2E3FC;\n",
              "    }\n",
              "\n",
              "    [theme=dark] .colab-df-convert:hover {\n",
              "      background-color: #434B5C;\n",
              "      box-shadow: 0px 1px 3px 1px rgba(0, 0, 0, 0.15);\n",
              "      filter: drop-shadow(0px 1px 2px rgba(0, 0, 0, 0.3));\n",
              "      fill: #FFFFFF;\n",
              "    }\n",
              "  </style>\n",
              "\n",
              "    <script>\n",
              "      const buttonEl =\n",
              "        document.querySelector('#df-681df6a0-9b02-4b3f-9deb-a47bfe5b552c button.colab-df-convert');\n",
              "      buttonEl.style.display =\n",
              "        google.colab.kernel.accessAllowed ? 'block' : 'none';\n",
              "\n",
              "      async function convertToInteractive(key) {\n",
              "        const element = document.querySelector('#df-681df6a0-9b02-4b3f-9deb-a47bfe5b552c');\n",
              "        const dataTable =\n",
              "          await google.colab.kernel.invokeFunction('convertToInteractive',\n",
              "                                                    [key], {});\n",
              "        if (!dataTable) return;\n",
              "\n",
              "        const docLinkHtml = 'Like what you see? Visit the ' +\n",
              "          '<a target=\"_blank\" href=https://colab.research.google.com/notebooks/data_table.ipynb>data table notebook</a>'\n",
              "          + ' to learn more about interactive tables.';\n",
              "        element.innerHTML = '';\n",
              "        dataTable['output_type'] = 'display_data';\n",
              "        await google.colab.output.renderOutput(dataTable, element);\n",
              "        const docLink = document.createElement('div');\n",
              "        docLink.innerHTML = docLinkHtml;\n",
              "        element.appendChild(docLink);\n",
              "      }\n",
              "    </script>\n",
              "  </div>\n",
              "\n",
              "\n",
              "<div id=\"df-29968059-f69d-42cb-8374-96f8640f20ce\">\n",
              "  <button class=\"colab-df-quickchart\" onclick=\"quickchart('df-29968059-f69d-42cb-8374-96f8640f20ce')\"\n",
              "            title=\"Suggest charts\"\n",
              "            style=\"display:none;\">\n",
              "\n",
              "<svg xmlns=\"http://www.w3.org/2000/svg\" height=\"24px\"viewBox=\"0 0 24 24\"\n",
              "     width=\"24px\">\n",
              "    <g>\n",
              "        <path d=\"M19 3H5c-1.1 0-2 .9-2 2v14c0 1.1.9 2 2 2h14c1.1 0 2-.9 2-2V5c0-1.1-.9-2-2-2zM9 17H7v-7h2v7zm4 0h-2V7h2v10zm4 0h-2v-4h2v4z\"/>\n",
              "    </g>\n",
              "</svg>\n",
              "  </button>\n",
              "\n",
              "<style>\n",
              "  .colab-df-quickchart {\n",
              "      --bg-color: #E8F0FE;\n",
              "      --fill-color: #1967D2;\n",
              "      --hover-bg-color: #E2EBFA;\n",
              "      --hover-fill-color: #174EA6;\n",
              "      --disabled-fill-color: #AAA;\n",
              "      --disabled-bg-color: #DDD;\n",
              "  }\n",
              "\n",
              "  [theme=dark] .colab-df-quickchart {\n",
              "      --bg-color: #3B4455;\n",
              "      --fill-color: #D2E3FC;\n",
              "      --hover-bg-color: #434B5C;\n",
              "      --hover-fill-color: #FFFFFF;\n",
              "      --disabled-bg-color: #3B4455;\n",
              "      --disabled-fill-color: #666;\n",
              "  }\n",
              "\n",
              "  .colab-df-quickchart {\n",
              "    background-color: var(--bg-color);\n",
              "    border: none;\n",
              "    border-radius: 50%;\n",
              "    cursor: pointer;\n",
              "    display: none;\n",
              "    fill: var(--fill-color);\n",
              "    height: 32px;\n",
              "    padding: 0;\n",
              "    width: 32px;\n",
              "  }\n",
              "\n",
              "  .colab-df-quickchart:hover {\n",
              "    background-color: var(--hover-bg-color);\n",
              "    box-shadow: 0 1px 2px rgba(60, 64, 67, 0.3), 0 1px 3px 1px rgba(60, 64, 67, 0.15);\n",
              "    fill: var(--button-hover-fill-color);\n",
              "  }\n",
              "\n",
              "  .colab-df-quickchart-complete:disabled,\n",
              "  .colab-df-quickchart-complete:disabled:hover {\n",
              "    background-color: var(--disabled-bg-color);\n",
              "    fill: var(--disabled-fill-color);\n",
              "    box-shadow: none;\n",
              "  }\n",
              "\n",
              "  .colab-df-spinner {\n",
              "    border: 2px solid var(--fill-color);\n",
              "    border-color: transparent;\n",
              "    border-bottom-color: var(--fill-color);\n",
              "    animation:\n",
              "      spin 1s steps(1) infinite;\n",
              "  }\n",
              "\n",
              "  @keyframes spin {\n",
              "    0% {\n",
              "      border-color: transparent;\n",
              "      border-bottom-color: var(--fill-color);\n",
              "      border-left-color: var(--fill-color);\n",
              "    }\n",
              "    20% {\n",
              "      border-color: transparent;\n",
              "      border-left-color: var(--fill-color);\n",
              "      border-top-color: var(--fill-color);\n",
              "    }\n",
              "    30% {\n",
              "      border-color: transparent;\n",
              "      border-left-color: var(--fill-color);\n",
              "      border-top-color: var(--fill-color);\n",
              "      border-right-color: var(--fill-color);\n",
              "    }\n",
              "    40% {\n",
              "      border-color: transparent;\n",
              "      border-right-color: var(--fill-color);\n",
              "      border-top-color: var(--fill-color);\n",
              "    }\n",
              "    60% {\n",
              "      border-color: transparent;\n",
              "      border-right-color: var(--fill-color);\n",
              "    }\n",
              "    80% {\n",
              "      border-color: transparent;\n",
              "      border-right-color: var(--fill-color);\n",
              "      border-bottom-color: var(--fill-color);\n",
              "    }\n",
              "    90% {\n",
              "      border-color: transparent;\n",
              "      border-bottom-color: var(--fill-color);\n",
              "    }\n",
              "  }\n",
              "</style>\n",
              "\n",
              "  <script>\n",
              "    async function quickchart(key) {\n",
              "      const quickchartButtonEl =\n",
              "        document.querySelector('#' + key + ' button');\n",
              "      quickchartButtonEl.disabled = true;  // To prevent multiple clicks.\n",
              "      quickchartButtonEl.classList.add('colab-df-spinner');\n",
              "      try {\n",
              "        const charts = await google.colab.kernel.invokeFunction(\n",
              "            'suggestCharts', [key], {});\n",
              "      } catch (error) {\n",
              "        console.error('Error during call to suggestCharts:', error);\n",
              "      }\n",
              "      quickchartButtonEl.classList.remove('colab-df-spinner');\n",
              "      quickchartButtonEl.classList.add('colab-df-quickchart-complete');\n",
              "    }\n",
              "    (() => {\n",
              "      let quickchartButtonEl =\n",
              "        document.querySelector('#df-29968059-f69d-42cb-8374-96f8640f20ce button');\n",
              "      quickchartButtonEl.style.display =\n",
              "        google.colab.kernel.accessAllowed ? 'block' : 'none';\n",
              "    })();\n",
              "  </script>\n",
              "</div>\n",
              "\n",
              "    </div>\n",
              "  </div>\n"
            ],
            "application/vnd.google.colaboratory.intrinsic+json": {
              "type": "dataframe",
              "variable_name": "df",
              "summary": "{\n  \"name\": \"df\",\n  \"rows\": 114,\n  \"fields\": [\n    {\n      \"column\": \"Unnamed: 0\",\n      \"properties\": {\n        \"dtype\": \"number\",\n        \"std\": 33,\n        \"min\": 0,\n        \"max\": 113,\n        \"num_unique_values\": 114,\n        \"samples\": [\n          80,\n          4,\n          40\n        ],\n        \"semantic_type\": \"\",\n        \"description\": \"\"\n      }\n    },\n    {\n      \"column\": \"ID\",\n      \"properties\": {\n        \"dtype\": \"number\",\n        \"std\": 22255,\n        \"min\": 676,\n        \"max\": 86505,\n        \"num_unique_values\": 114,\n        \"samples\": [\n          43510,\n          1885,\n          22345\n        ],\n        \"semantic_type\": \"\",\n        \"description\": \"\"\n      }\n    },\n    {\n      \"column\": \"a\",\n      \"properties\": {\n        \"dtype\": \"number\",\n        \"std\": 0.3555212751157571,\n        \"min\": -1.294951,\n        \"max\": 1.565945,\n        \"num_unique_values\": 85,\n        \"samples\": [\n          0.174137,\n          -0.66434,\n          0.004158\n        ],\n        \"semantic_type\": \"\",\n        \"description\": \"\"\n      }\n    },\n    {\n      \"column\": \"DS\",\n      \"properties\": {\n        \"dtype\": \"number\",\n        \"std\": 29.28023262051727,\n        \"min\": 3.357222,\n        \"max\": 88.334966,\n        \"num_unique_values\": 114,\n        \"samples\": [\n          6.245692,\n          80.823385,\n          48.95268\n        ],\n        \"semantic_type\": \"\",\n        \"description\": \"\"\n      }\n    },\n    {\n      \"column\": \"Lane\",\n      \"properties\": {\n        \"dtype\": \"number\",\n        \"std\": 0,\n        \"min\": 1,\n        \"max\": 2,\n        \"num_unique_values\": 2,\n        \"samples\": [\n          2,\n          1\n        ],\n        \"semantic_type\": \"\",\n        \"description\": \"\"\n      }\n    },\n    {\n      \"column\": \"y\",\n      \"properties\": {\n        \"dtype\": \"number\",\n        \"std\": 0,\n        \"min\": 0,\n        \"max\": 1,\n        \"num_unique_values\": 2,\n        \"samples\": [\n          0,\n          1\n        ],\n        \"semantic_type\": \"\",\n        \"description\": \"\"\n      }\n    },\n    {\n      \"column\": \"RLV\",\n      \"properties\": {\n        \"dtype\": \"category\",\n        \"num_unique_values\": 2,\n        \"samples\": [\n          \"Yes\",\n          \"No\"\n        ],\n        \"semantic_type\": \"\",\n        \"description\": \"\"\n      }\n    },\n    {\n      \"column\": \"Driver Behaviour\",\n      \"properties\": {\n        \"dtype\": \"category\",\n        \"num_unique_values\": 3,\n        \"samples\": [\n          \"Normal\",\n          \"AP\"\n        ],\n        \"semantic_type\": \"\",\n        \"description\": \"\"\n      }\n    },\n    {\n      \"column\": \"v\",\n      \"properties\": {\n        \"dtype\": \"number\",\n        \"std\": 6.757545634101024,\n        \"min\": 8.021687,\n        \"max\": 41.0501031,\n        \"num_unique_values\": 114,\n        \"samples\": [\n          24.813793,\n          40.3457749\n        ],\n        \"semantic_type\": \"\",\n        \"description\": \"\"\n      }\n    }\n  ]\n}"
            }
          },
          "metadata": {},
          "execution_count": 129
        }
      ]
    },
    {
      "cell_type": "code",
      "source": [
        "df_selected = df.loc[:, ['v', 'DS', 'y']]\n"
      ],
      "metadata": {
        "id": "55YuGT7cNFak"
      },
      "execution_count": null,
      "outputs": []
    },
    {
      "cell_type": "code",
      "source": [
        "df_selected.head()"
      ],
      "metadata": {
        "colab": {
          "base_uri": "https://localhost:8080/",
          "height": 206
        },
        "id": "j2uEtv4nNHkO",
        "outputId": "ed5982fe-a8be-4c5b-a827-48af19f35c74"
      },
      "execution_count": null,
      "outputs": [
        {
          "output_type": "execute_result",
          "data": {
            "text/plain": [
              "           v         DS  y\n",
              "0  27.537272  15.354684  1\n",
              "1  34.054511  67.143053  1\n",
              "2  29.211065  85.338603  0\n",
              "3  39.489852  41.961064  1\n",
              "4  40.345775  80.823385  1"
            ],
            "text/html": [
              "\n",
              "  <div id=\"df-37a532d3-d5a7-48ee-b009-215bf8038666\" class=\"colab-df-container\">\n",
              "    <div>\n",
              "<style scoped>\n",
              "    .dataframe tbody tr th:only-of-type {\n",
              "        vertical-align: middle;\n",
              "    }\n",
              "\n",
              "    .dataframe tbody tr th {\n",
              "        vertical-align: top;\n",
              "    }\n",
              "\n",
              "    .dataframe thead th {\n",
              "        text-align: right;\n",
              "    }\n",
              "</style>\n",
              "<table border=\"1\" class=\"dataframe\">\n",
              "  <thead>\n",
              "    <tr style=\"text-align: right;\">\n",
              "      <th></th>\n",
              "      <th>v</th>\n",
              "      <th>DS</th>\n",
              "      <th>y</th>\n",
              "    </tr>\n",
              "  </thead>\n",
              "  <tbody>\n",
              "    <tr>\n",
              "      <th>0</th>\n",
              "      <td>27.537272</td>\n",
              "      <td>15.354684</td>\n",
              "      <td>1</td>\n",
              "    </tr>\n",
              "    <tr>\n",
              "      <th>1</th>\n",
              "      <td>34.054511</td>\n",
              "      <td>67.143053</td>\n",
              "      <td>1</td>\n",
              "    </tr>\n",
              "    <tr>\n",
              "      <th>2</th>\n",
              "      <td>29.211065</td>\n",
              "      <td>85.338603</td>\n",
              "      <td>0</td>\n",
              "    </tr>\n",
              "    <tr>\n",
              "      <th>3</th>\n",
              "      <td>39.489852</td>\n",
              "      <td>41.961064</td>\n",
              "      <td>1</td>\n",
              "    </tr>\n",
              "    <tr>\n",
              "      <th>4</th>\n",
              "      <td>40.345775</td>\n",
              "      <td>80.823385</td>\n",
              "      <td>1</td>\n",
              "    </tr>\n",
              "  </tbody>\n",
              "</table>\n",
              "</div>\n",
              "    <div class=\"colab-df-buttons\">\n",
              "\n",
              "  <div class=\"colab-df-container\">\n",
              "    <button class=\"colab-df-convert\" onclick=\"convertToInteractive('df-37a532d3-d5a7-48ee-b009-215bf8038666')\"\n",
              "            title=\"Convert this dataframe to an interactive table.\"\n",
              "            style=\"display:none;\">\n",
              "\n",
              "  <svg xmlns=\"http://www.w3.org/2000/svg\" height=\"24px\" viewBox=\"0 -960 960 960\">\n",
              "    <path d=\"M120-120v-720h720v720H120Zm60-500h600v-160H180v160Zm220 220h160v-160H400v160Zm0 220h160v-160H400v160ZM180-400h160v-160H180v160Zm440 0h160v-160H620v160ZM180-180h160v-160H180v160Zm440 0h160v-160H620v160Z\"/>\n",
              "  </svg>\n",
              "    </button>\n",
              "\n",
              "  <style>\n",
              "    .colab-df-container {\n",
              "      display:flex;\n",
              "      gap: 12px;\n",
              "    }\n",
              "\n",
              "    .colab-df-convert {\n",
              "      background-color: #E8F0FE;\n",
              "      border: none;\n",
              "      border-radius: 50%;\n",
              "      cursor: pointer;\n",
              "      display: none;\n",
              "      fill: #1967D2;\n",
              "      height: 32px;\n",
              "      padding: 0 0 0 0;\n",
              "      width: 32px;\n",
              "    }\n",
              "\n",
              "    .colab-df-convert:hover {\n",
              "      background-color: #E2EBFA;\n",
              "      box-shadow: 0px 1px 2px rgba(60, 64, 67, 0.3), 0px 1px 3px 1px rgba(60, 64, 67, 0.15);\n",
              "      fill: #174EA6;\n",
              "    }\n",
              "\n",
              "    .colab-df-buttons div {\n",
              "      margin-bottom: 4px;\n",
              "    }\n",
              "\n",
              "    [theme=dark] .colab-df-convert {\n",
              "      background-color: #3B4455;\n",
              "      fill: #D2E3FC;\n",
              "    }\n",
              "\n",
              "    [theme=dark] .colab-df-convert:hover {\n",
              "      background-color: #434B5C;\n",
              "      box-shadow: 0px 1px 3px 1px rgba(0, 0, 0, 0.15);\n",
              "      filter: drop-shadow(0px 1px 2px rgba(0, 0, 0, 0.3));\n",
              "      fill: #FFFFFF;\n",
              "    }\n",
              "  </style>\n",
              "\n",
              "    <script>\n",
              "      const buttonEl =\n",
              "        document.querySelector('#df-37a532d3-d5a7-48ee-b009-215bf8038666 button.colab-df-convert');\n",
              "      buttonEl.style.display =\n",
              "        google.colab.kernel.accessAllowed ? 'block' : 'none';\n",
              "\n",
              "      async function convertToInteractive(key) {\n",
              "        const element = document.querySelector('#df-37a532d3-d5a7-48ee-b009-215bf8038666');\n",
              "        const dataTable =\n",
              "          await google.colab.kernel.invokeFunction('convertToInteractive',\n",
              "                                                    [key], {});\n",
              "        if (!dataTable) return;\n",
              "\n",
              "        const docLinkHtml = 'Like what you see? Visit the ' +\n",
              "          '<a target=\"_blank\" href=https://colab.research.google.com/notebooks/data_table.ipynb>data table notebook</a>'\n",
              "          + ' to learn more about interactive tables.';\n",
              "        element.innerHTML = '';\n",
              "        dataTable['output_type'] = 'display_data';\n",
              "        await google.colab.output.renderOutput(dataTable, element);\n",
              "        const docLink = document.createElement('div');\n",
              "        docLink.innerHTML = docLinkHtml;\n",
              "        element.appendChild(docLink);\n",
              "      }\n",
              "    </script>\n",
              "  </div>\n",
              "\n",
              "\n",
              "<div id=\"df-d12209dd-a64c-4baa-aadd-fdddb5bd165a\">\n",
              "  <button class=\"colab-df-quickchart\" onclick=\"quickchart('df-d12209dd-a64c-4baa-aadd-fdddb5bd165a')\"\n",
              "            title=\"Suggest charts\"\n",
              "            style=\"display:none;\">\n",
              "\n",
              "<svg xmlns=\"http://www.w3.org/2000/svg\" height=\"24px\"viewBox=\"0 0 24 24\"\n",
              "     width=\"24px\">\n",
              "    <g>\n",
              "        <path d=\"M19 3H5c-1.1 0-2 .9-2 2v14c0 1.1.9 2 2 2h14c1.1 0 2-.9 2-2V5c0-1.1-.9-2-2-2zM9 17H7v-7h2v7zm4 0h-2V7h2v10zm4 0h-2v-4h2v4z\"/>\n",
              "    </g>\n",
              "</svg>\n",
              "  </button>\n",
              "\n",
              "<style>\n",
              "  .colab-df-quickchart {\n",
              "      --bg-color: #E8F0FE;\n",
              "      --fill-color: #1967D2;\n",
              "      --hover-bg-color: #E2EBFA;\n",
              "      --hover-fill-color: #174EA6;\n",
              "      --disabled-fill-color: #AAA;\n",
              "      --disabled-bg-color: #DDD;\n",
              "  }\n",
              "\n",
              "  [theme=dark] .colab-df-quickchart {\n",
              "      --bg-color: #3B4455;\n",
              "      --fill-color: #D2E3FC;\n",
              "      --hover-bg-color: #434B5C;\n",
              "      --hover-fill-color: #FFFFFF;\n",
              "      --disabled-bg-color: #3B4455;\n",
              "      --disabled-fill-color: #666;\n",
              "  }\n",
              "\n",
              "  .colab-df-quickchart {\n",
              "    background-color: var(--bg-color);\n",
              "    border: none;\n",
              "    border-radius: 50%;\n",
              "    cursor: pointer;\n",
              "    display: none;\n",
              "    fill: var(--fill-color);\n",
              "    height: 32px;\n",
              "    padding: 0;\n",
              "    width: 32px;\n",
              "  }\n",
              "\n",
              "  .colab-df-quickchart:hover {\n",
              "    background-color: var(--hover-bg-color);\n",
              "    box-shadow: 0 1px 2px rgba(60, 64, 67, 0.3), 0 1px 3px 1px rgba(60, 64, 67, 0.15);\n",
              "    fill: var(--button-hover-fill-color);\n",
              "  }\n",
              "\n",
              "  .colab-df-quickchart-complete:disabled,\n",
              "  .colab-df-quickchart-complete:disabled:hover {\n",
              "    background-color: var(--disabled-bg-color);\n",
              "    fill: var(--disabled-fill-color);\n",
              "    box-shadow: none;\n",
              "  }\n",
              "\n",
              "  .colab-df-spinner {\n",
              "    border: 2px solid var(--fill-color);\n",
              "    border-color: transparent;\n",
              "    border-bottom-color: var(--fill-color);\n",
              "    animation:\n",
              "      spin 1s steps(1) infinite;\n",
              "  }\n",
              "\n",
              "  @keyframes spin {\n",
              "    0% {\n",
              "      border-color: transparent;\n",
              "      border-bottom-color: var(--fill-color);\n",
              "      border-left-color: var(--fill-color);\n",
              "    }\n",
              "    20% {\n",
              "      border-color: transparent;\n",
              "      border-left-color: var(--fill-color);\n",
              "      border-top-color: var(--fill-color);\n",
              "    }\n",
              "    30% {\n",
              "      border-color: transparent;\n",
              "      border-left-color: var(--fill-color);\n",
              "      border-top-color: var(--fill-color);\n",
              "      border-right-color: var(--fill-color);\n",
              "    }\n",
              "    40% {\n",
              "      border-color: transparent;\n",
              "      border-right-color: var(--fill-color);\n",
              "      border-top-color: var(--fill-color);\n",
              "    }\n",
              "    60% {\n",
              "      border-color: transparent;\n",
              "      border-right-color: var(--fill-color);\n",
              "    }\n",
              "    80% {\n",
              "      border-color: transparent;\n",
              "      border-right-color: var(--fill-color);\n",
              "      border-bottom-color: var(--fill-color);\n",
              "    }\n",
              "    90% {\n",
              "      border-color: transparent;\n",
              "      border-bottom-color: var(--fill-color);\n",
              "    }\n",
              "  }\n",
              "</style>\n",
              "\n",
              "  <script>\n",
              "    async function quickchart(key) {\n",
              "      const quickchartButtonEl =\n",
              "        document.querySelector('#' + key + ' button');\n",
              "      quickchartButtonEl.disabled = true;  // To prevent multiple clicks.\n",
              "      quickchartButtonEl.classList.add('colab-df-spinner');\n",
              "      try {\n",
              "        const charts = await google.colab.kernel.invokeFunction(\n",
              "            'suggestCharts', [key], {});\n",
              "      } catch (error) {\n",
              "        console.error('Error during call to suggestCharts:', error);\n",
              "      }\n",
              "      quickchartButtonEl.classList.remove('colab-df-spinner');\n",
              "      quickchartButtonEl.classList.add('colab-df-quickchart-complete');\n",
              "    }\n",
              "    (() => {\n",
              "      let quickchartButtonEl =\n",
              "        document.querySelector('#df-d12209dd-a64c-4baa-aadd-fdddb5bd165a button');\n",
              "      quickchartButtonEl.style.display =\n",
              "        google.colab.kernel.accessAllowed ? 'block' : 'none';\n",
              "    })();\n",
              "  </script>\n",
              "</div>\n",
              "\n",
              "    </div>\n",
              "  </div>\n"
            ],
            "application/vnd.google.colaboratory.intrinsic+json": {
              "type": "dataframe",
              "variable_name": "df_selected",
              "summary": "{\n  \"name\": \"df_selected\",\n  \"rows\": 114,\n  \"fields\": [\n    {\n      \"column\": \"v\",\n      \"properties\": {\n        \"dtype\": \"number\",\n        \"std\": 6.757545634101024,\n        \"min\": 8.021687,\n        \"max\": 41.0501031,\n        \"num_unique_values\": 114,\n        \"samples\": [\n          24.813793,\n          40.3457749,\n          25.7867634\n        ],\n        \"semantic_type\": \"\",\n        \"description\": \"\"\n      }\n    },\n    {\n      \"column\": \"DS\",\n      \"properties\": {\n        \"dtype\": \"number\",\n        \"std\": 29.28023262051727,\n        \"min\": 3.357222,\n        \"max\": 88.334966,\n        \"num_unique_values\": 114,\n        \"samples\": [\n          6.245692,\n          80.823385,\n          48.95268\n        ],\n        \"semantic_type\": \"\",\n        \"description\": \"\"\n      }\n    },\n    {\n      \"column\": \"y\",\n      \"properties\": {\n        \"dtype\": \"number\",\n        \"std\": 0,\n        \"min\": 0,\n        \"max\": 1,\n        \"num_unique_values\": 2,\n        \"samples\": [\n          0,\n          1\n        ],\n        \"semantic_type\": \"\",\n        \"description\": \"\"\n      }\n    }\n  ]\n}"
            }
          },
          "metadata": {},
          "execution_count": 131
        }
      ]
    },
    {
      "cell_type": "code",
      "source": [
        "\n",
        "# Mapping y values to colors\n",
        "colors = df_selected['y'].map({0: 'blue', 1: 'red'})\n",
        "\n",
        "# Define custom colormap\n",
        "custom_cmap = ListedColormap(['blue', 'red'])\n",
        "\n",
        "# Plotting\n",
        "plt.figure(figsize=(10, 6))\n",
        "\n",
        "# Scatter plot\n",
        "scatter = plt.scatter(df_selected['v'], df_selected['DS'], c=colors, cmap=custom_cmap, marker='^')\n",
        "\n",
        "# Adding labels and title\n",
        "plt.xlabel('a')\n",
        "plt.ylabel('DS')\n",
        "plt.title('Scatter Plot of a and DS colored by y')\n",
        "\n",
        "# # Adding color bar with custom ticks and labels\n",
        "# cbar = plt.colorbar(scatter, ticks=[0, 1])\n",
        "# cbar.set_ticklabels(['y=0', 'y=1'])\n",
        "# cbar.set_label('y')\n",
        "\n",
        "# Creating custom legend\n",
        "handles = [\n",
        "    plt.Line2D([0], [0], marker='^', color='w', markerfacecolor='blue', markersize=10, label='y=0'),\n",
        "    plt.Line2D([0], [0], marker='^', color='w', markerfacecolor='red', markersize=10, label='y=1')\n",
        "]\n",
        "plt.legend(title='y', handles=handles)\n",
        "\n",
        "# Showing the plot\n",
        "plt.show()"
      ],
      "metadata": {
        "colab": {
          "base_uri": "https://localhost:8080/",
          "height": 599
        },
        "id": "xug129RUbBcN",
        "outputId": "193832c4-96d4-4a5b-f2b0-c0f61b89cca3"
      },
      "execution_count": null,
      "outputs": [
        {
          "output_type": "stream",
          "name": "stderr",
          "text": [
            "<ipython-input-132-c652abb7b562>:11: UserWarning: No data for colormapping provided via 'c'. Parameters 'cmap' will be ignored\n",
            "  scatter = plt.scatter(df_selected['v'], df_selected['DS'], c=colors, cmap=custom_cmap, marker='^')\n"
          ]
        },
        {
          "output_type": "display_data",
          "data": {
            "text/plain": [
              "<Figure size 1000x600 with 1 Axes>"
            ],
            "image/png": "[encoded data removed]"
          },
          "metadata": {}
        }
      ]
    },
    {
      "cell_type": "code",
      "source": [
        "# Splitting the data into features (X) and labels (y)\n",
        "X = df_selected[['v', 'DS']].values\n",
        "y = df_selected['y'].values"
      ],
      "metadata": {
        "id": "twTLHp5xdeKr"
      },
      "execution_count": null,
      "outputs": []
    },
    {
      "cell_type": "code",
      "source": [
        "X,y"
      ],
      "metadata": {
        "colab": {
          "base_uri": "https://localhost:8080/"
        },
        "id": "6vRW5Wclesra",
        "outputId": "8ef7cd0b-7f78-483e-be28-799e375aba98"
      },
      "execution_count": null,
      "outputs": [
        {
          "output_type": "execute_result",
          "data": {
            "text/plain": [
              "(array([[27.537272  , 15.354684  ],\n",
              "        [34.054511  , 67.143053  ],\n",
              "        [29.211065  , 85.338603  ],\n",
              "        [39.4898515 , 41.961064  ],\n",
              "        [40.3457749 , 80.823385  ],\n",
              "        [29.5002875 , 30.320449  ],\n",
              "        [32.409627  ,  4.624121  ],\n",
              "        [34.446508  , 23.107041  ],\n",
              "        [35.6501067 , 77.565538  ],\n",
              "        [35.1982876 , 84.326734  ],\n",
              "        [28.3935843 , 34.801603  ],\n",
              "        [23.26459487, 53.071359  ],\n",
              "        [33.9614215 , 57.720356  ],\n",
              "        [36.563208  , 17.782314  ],\n",
              "        [29.988316  , 84.224467  ],\n",
              "        [28.5966598 , 81.041726  ],\n",
              "        [27.0891426 , 21.698633  ],\n",
              "        [19.281181  , 75.351073  ],\n",
              "        [23.3766859 ,  5.941066  ],\n",
              "        [27.3590215 , 49.549027  ],\n",
              "        [27.9885    , 84.261157  ],\n",
              "        [19.945143  , 16.379083  ],\n",
              "        [28.408234  , 75.688937  ],\n",
              "        [21.375682  , 85.558669  ],\n",
              "        [17.692631  ,  3.579014  ],\n",
              "        [22.6943976 , 24.767028  ],\n",
              "        [24.497606  , 50.056462  ],\n",
              "        [27.718731  , 81.481858  ],\n",
              "        [21.129511  ,  7.358102  ],\n",
              "        [19.0586436 , 45.62753   ],\n",
              "        [34.0130267 , 28.470184  ],\n",
              "        [19.264573  , 66.02374   ],\n",
              "        [28.475396  , 83.59233   ],\n",
              "        [18.944009  , 86.217141  ],\n",
              "        [27.44087633, 82.69826   ],\n",
              "        [21.765111  ,  6.911067  ],\n",
              "        [33.18820055,  4.91149   ],\n",
              "        [31.0856784 , 49.659923  ],\n",
              "        [28.651669  , 84.777221  ],\n",
              "        [27.375902  , 84.597296  ],\n",
              "        [25.7867634 , 48.95268   ],\n",
              "        [25.274575  , 84.259431  ],\n",
              "        [27.187362  , 62.372806  ],\n",
              "        [29.290598  , 83.708403  ],\n",
              "        [29.06388867, 83.921566  ],\n",
              "        [25.0861233 , 57.193939  ],\n",
              "        [14.089456  , 57.751869  ],\n",
              "        [20.1947871 , 18.588372  ],\n",
              "        [23.9491878 , 51.518817  ],\n",
              "        [21.040972  , 67.370022  ],\n",
              "        [18.9685767 , 61.751023  ],\n",
              "        [17.796759  , 83.268271  ],\n",
              "        [32.3524104 ,  3.613978  ],\n",
              "        [34.9653593 , 35.461801  ],\n",
              "        [17.72480927, 88.334966  ],\n",
              "        [30.820634  , 61.930948  ],\n",
              "        [32.31426393, 82.890265  ],\n",
              "        [32.98336447, 82.27366   ],\n",
              "        [27.210372  ,  4.69315   ],\n",
              "        [28.7614712 , 57.612912  ],\n",
              "        [28.521258  , 85.553492  ],\n",
              "        [37.6854972 , 30.869752  ],\n",
              "        [41.0501031 , 35.014766  ],\n",
              "        [26.675265  , 83.375716  ],\n",
              "        [32.1378712 ,  5.467695  ],\n",
              "        [37.2584589 , 51.78075   ],\n",
              "        [29.15746227, 82.04324   ],\n",
              "        [27.614966  , 82.777644  ],\n",
              "        [40.884903  , 18.555133  ],\n",
              "        [33.6845506 , 64.519968  ],\n",
              "        [26.618007  , 81.930618  ],\n",
              "        [34.861741  , 19.892787  ],\n",
              "        [24.214994  , 85.664388  ],\n",
              "        [28.01858847, 77.375259  ],\n",
              "        [27.781068  , 81.487035  ],\n",
              "        [25.831215  ,  6.131345  ],\n",
              "        [21.2643889 , 48.290757  ],\n",
              "        [31.64006173, 83.807219  ],\n",
              "        [16.273256  , 16.827844  ],\n",
              "        [25.4615253 , 35.342276  ],\n",
              "        [24.813793  ,  6.245692  ],\n",
              "        [15.9694193 , 18.600452  ],\n",
              "        [17.890604  , 19.558373  ],\n",
              "        [14.445351  , 54.386578  ],\n",
              "        [15.677372  , 51.212465  ],\n",
              "        [18.1700775 , 40.969904  ],\n",
              "        [29.06289   , 77.94527   ],\n",
              "        [17.583292  ,  4.367365  ],\n",
              "        [26.8828151 , 41.697855  ],\n",
              "        [26.5320509 , 36.866757  ],\n",
              "        [27.1392214 , 29.688313  ],\n",
              "        [20.587175  ,  9.135887  ],\n",
              "        [23.318399  , 57.649602  ],\n",
              "        [25.234939  , 81.266969  ],\n",
              "        [35.549913  , 81.048629  ],\n",
              "        [18.56677955,  8.79112   ],\n",
              "        [21.9637521 , 14.457163  ],\n",
              "        [26.703163  , 82.048417  ],\n",
              "        [18.162363  ,  4.386798  ],\n",
              "        [21.470369  , 42.555685  ],\n",
              "        [18.92063   , 85.924595  ],\n",
              "        [20.01912755,  8.940431  ],\n",
              "        [24.297902  , 84.150261  ],\n",
              "        [22.9231355 , 24.803718  ],\n",
              "        [24.440388  , 53.546455  ],\n",
              "        [19.40684835, 13.34993   ],\n",
              "        [34.1549499 , 30.531887  ],\n",
              "        [ 8.021687  , 50.410308  ],\n",
              "        [17.7038857 ,  3.357222  ],\n",
              "        [26.8330786 , 43.229689  ],\n",
              "        [ 9.595854  , 50.632099  ],\n",
              "        [25.08585813, 84.375504  ],\n",
              "        [22.46859165, 10.78552   ],\n",
              "        [12.226579  , 42.345973  ]]),\n",
              " array([1, 1, 0, 1, 1, 1, 1, 1, 1, 1, 1, 0, 1, 1, 0, 0, 1, 0, 1, 1, 0, 1,\n",
              "        1, 0, 1, 1, 0, 0, 1, 1, 1, 0, 0, 0, 0, 1, 1, 1, 0, 0, 1, 0, 0, 0,\n",
              "        0, 1, 0, 1, 1, 0, 1, 0, 1, 1, 0, 1, 0, 0, 1, 1, 0, 1, 1, 0, 1, 1,\n",
              "        0, 0, 1, 1, 0, 1, 0, 0, 0, 1, 1, 0, 1, 1, 1, 1, 1, 0, 0, 1, 1, 1,\n",
              "        1, 1, 1, 1, 0, 0, 1, 1, 1, 0, 1, 1, 0, 1, 0, 1, 1, 1, 1, 0, 1, 1,\n",
              "        0, 0, 1, 0]))"
            ]
          },
          "metadata": {},
          "execution_count": 134
        }
      ]
    },
    {
      "cell_type": "code",
      "source": [
        "from sklearn.preprocessing import StandardScaler\n",
        "from sklearn.model_selection import train_test_split\n",
        "\n",
        "\n",
        "# Normalize the features\n",
        "scaler = StandardScaler()\n",
        "X_scaled = scaler.fit_transform(X)"
      ],
      "metadata": {
        "id": "8tH4XdG5mx8g"
      },
      "execution_count": null,
      "outputs": []
    },
    {
      "cell_type": "code",
      "source": [
        "# Converting to PyTorch tensors\n",
        "X_tensor = torch.tensor(X_scaled, dtype=torch.float32)\n",
        "y_tensor = torch.tensor(y, dtype=torch.float32).unsqueeze(1)  # Reshape y to be a column vector"
      ],
      "metadata": {
        "id": "oTjPLqtOd_my"
      },
      "execution_count": null,
      "outputs": []
    },
    {
      "cell_type": "code",
      "source": [
        "X_tensor, y_tensor"
      ],
      "metadata": {
        "colab": {
          "base_uri": "https://localhost:8080/"
        },
        "id": "BWU_EEFveC4o",
        "outputId": "f55bf401-d398-47c0-fefe-463d2af3cf1d"
      },
      "execution_count": null,
      "outputs": [
        {
          "output_type": "execute_result",
          "data": {
            "text/plain": [
              "(tensor([[ 2.3404e-01, -1.1727e+00],\n",
              "         [ 1.2027e+00,  6.0377e-01],\n",
              "         [ 4.8282e-01,  1.2279e+00],\n",
              "         [ 2.0106e+00, -2.6006e-01],\n",
              "         [ 2.1378e+00,  1.0731e+00],\n",
              "         [ 5.2581e-01, -6.5937e-01],\n",
              "         [ 9.5824e-01, -1.5408e+00],\n",
              "         [ 1.2610e+00, -9.0682e-01],\n",
              "         [ 1.4399e+00,  9.6130e-01],\n",
              "         [ 1.3727e+00,  1.1932e+00],\n",
              "         [ 3.6131e-01, -5.0565e-01],\n",
              "         [-4.0104e-01,  1.2107e-01],\n",
              "         [ 1.1889e+00,  2.8054e-01],\n",
              "         [ 1.5756e+00, -1.0895e+00],\n",
              "         [ 5.9835e-01,  1.1897e+00],\n",
              "         [ 3.9150e-01,  1.0805e+00],\n",
              "         [ 1.6743e-01, -9.5513e-01],\n",
              "         [-9.9312e-01,  8.8534e-01],\n",
              "         [-3.8438e-01, -1.4957e+00],\n",
              "         [ 2.0754e-01,  2.3677e-04],\n",
              "         [ 3.0110e-01,  1.1910e+00],\n",
              "         [-8.9443e-01, -1.1376e+00],\n",
              "         [ 3.6349e-01,  8.9693e-01],\n",
              "         [-6.8180e-01,  1.2355e+00],\n",
              "         [-1.2292e+00, -1.5767e+00],\n",
              "         [-4.8579e-01, -8.4987e-01],\n",
              "         [-2.1777e-01,  1.7644e-02],\n",
              "         [ 2.6101e-01,  1.0956e+00],\n",
              "         [-7.1839e-01, -1.4471e+00],\n",
              "         [-1.0262e+00, -1.3428e-01],\n",
              "         [ 1.1966e+00, -7.2284e-01],\n",
              "         [-9.9559e-01,  5.6538e-01],\n",
              "         [ 3.7347e-01,  1.1680e+00],\n",
              "         [-1.0432e+00,  1.2581e+00],\n",
              "         [ 2.1971e-01,  1.1374e+00],\n",
              "         [-6.2392e-01, -1.4624e+00],\n",
              "         [ 1.0740e+00, -1.5310e+00],\n",
              "         [ 7.6146e-01,  4.0409e-03],\n",
              "         [ 3.9968e-01,  1.2087e+00],\n",
              "         [ 2.1005e-01,  1.2025e+00],\n",
              "         [-2.6153e-02, -2.0220e-02],\n",
              "         [-1.0228e-01,  1.1909e+00],\n",
              "         [ 1.8203e-01,  4.4014e-01],\n",
              "         [ 4.9464e-01,  1.1720e+00],\n",
              "         [ 4.6095e-01,  1.1793e+00],\n",
              "         [-1.3029e-01,  2.6248e-01],\n",
              "         [-1.7648e+00,  2.8162e-01],\n",
              "         [-8.5732e-01, -1.0618e+00],\n",
              "         [-2.9928e-01,  6.7807e-02],\n",
              "         [-7.3155e-01,  6.1156e-01],\n",
              "         [-1.0396e+00,  4.1881e-01],\n",
              "         [-1.2138e+00,  1.1569e+00],\n",
              "         [ 9.4974e-01, -1.5755e+00],\n",
              "         [ 1.3381e+00, -4.8300e-01],\n",
              "         [-1.2245e+00,  1.3307e+00],\n",
              "         [ 7.2206e-01,  4.2498e-01],\n",
              "         [ 9.4407e-01,  1.1440e+00],\n",
              "         [ 1.0435e+00,  1.1228e+00],\n",
              "         [ 1.8545e-01, -1.5385e+00],\n",
              "         [ 4.1600e-01,  2.7686e-01],\n",
              "         [ 3.8029e-01,  1.2353e+00],\n",
              "         [ 1.7424e+00, -6.4053e-01],\n",
              "         [ 2.2425e+00, -4.9834e-01],\n",
              "         [ 1.0591e-01,  1.1606e+00],\n",
              "         [ 9.1785e-01, -1.5119e+00],\n",
              "         [ 1.6790e+00,  7.6793e-02],\n",
              "         [ 4.7485e-01,  1.1149e+00],\n",
              "         [ 2.4558e-01,  1.1401e+00],\n",
              "         [ 2.2180e+00, -1.0630e+00],\n",
              "         [ 1.1477e+00,  5.1379e-01],\n",
              "         [ 9.7400e-02,  1.1110e+00],\n",
              "         [ 1.3227e+00, -1.0171e+00],\n",
              "         [-2.5977e-01,  1.2391e+00],\n",
              "         [ 3.0558e-01,  9.5477e-01],\n",
              "         [ 2.7027e-01,  1.0958e+00],\n",
              "         [-1.9546e-02, -1.4891e+00],\n",
              "         [-6.9834e-01, -4.2926e-02],\n",
              "         [ 8.4386e-01,  1.1754e+00],\n",
              "         [-1.4402e+00, -1.1222e+00],\n",
              "         [-7.4495e-02, -4.8710e-01],\n",
              "         [-1.7077e-01, -1.4852e+00],\n",
              "         [-1.4854e+00, -1.0614e+00],\n",
              "         [-1.1998e+00, -1.0285e+00],\n",
              "         [-1.7119e+00,  1.6618e-01],\n",
              "         [-1.5288e+00,  5.7299e-02],\n",
              "         [-1.1583e+00, -2.9406e-01],\n",
              "         [ 4.6080e-01,  9.7433e-01],\n",
              "         [-1.2455e+00, -1.5497e+00],\n",
              "         [ 1.3676e-01, -2.6909e-01],\n",
              "         [ 8.4623e-02, -4.3481e-01],\n",
              "         [ 1.7487e-01, -6.8106e-01],\n",
              "         [-7.9900e-01, -1.3861e+00],\n",
              "         [-3.9304e-01,  2.7812e-01],\n",
              "         [-1.0817e-01,  1.0883e+00],\n",
              "         [ 1.4250e+00,  1.0808e+00],\n",
              "         [-1.0993e+00, -1.3979e+00],\n",
              "         [-5.9439e-01, -1.2035e+00],\n",
              "         [ 1.1006e-01,  1.1151e+00],\n",
              "         [-1.1594e+00, -1.5490e+00],\n",
              "         [-6.6773e-01, -2.3966e-01],\n",
              "         [-1.0467e+00,  1.2480e+00],\n",
              "         [-8.8343e-01, -1.3928e+00],\n",
              "         [-2.4745e-01,  1.1872e+00],\n",
              "         [-4.5179e-01, -8.4861e-01],\n",
              "         [-2.2627e-01,  1.3736e-01],\n",
              "         [-9.7444e-01, -1.2415e+00],\n",
              "         [ 1.2177e+00, -6.5212e-01],\n",
              "         [-2.6667e+00,  2.9782e-02],\n",
              "         [-1.2276e+00, -1.5843e+00],\n",
              "         [ 1.2937e-01, -2.1654e-01],\n",
              "         [-2.4327e+00,  3.7390e-02],\n",
              "         [-1.3033e-01,  1.1949e+00],\n",
              "         [-5.1935e-01, -1.3295e+00],\n",
              "         [-2.0417e+00, -2.4685e-01]]),\n",
              " tensor([[1.],\n",
              "         [1.],\n",
              "         [0.],\n",
              "         [1.],\n",
              "         [1.],\n",
              "         [1.],\n",
              "         [1.],\n",
              "         [1.],\n",
              "         [1.],\n",
              "         [1.],\n",
              "         [1.],\n",
              "         [0.],\n",
              "         [1.],\n",
              "         [1.],\n",
              "         [0.],\n",
              "         [0.],\n",
              "         [1.],\n",
              "         [0.],\n",
              "         [1.],\n",
              "         [1.],\n",
              "         [0.],\n",
              "         [1.],\n",
              "         [1.],\n",
              "         [0.],\n",
              "         [1.],\n",
              "         [1.],\n",
              "         [0.],\n",
              "         [0.],\n",
              "         [1.],\n",
              "         [1.],\n",
              "         [1.],\n",
              "         [0.],\n",
              "         [0.],\n",
              "         [0.],\n",
              "         [0.],\n",
              "         [1.],\n",
              "         [1.],\n",
              "         [1.],\n",
              "         [0.],\n",
              "         [0.],\n",
              "         [1.],\n",
              "         [0.],\n",
              "         [0.],\n",
              "         [0.],\n",
              "         [0.],\n",
              "         [1.],\n",
              "         [0.],\n",
              "         [1.],\n",
              "         [1.],\n",
              "         [0.],\n",
              "         [1.],\n",
              "         [0.],\n",
              "         [1.],\n",
              "         [1.],\n",
              "         [0.],\n",
              "         [1.],\n",
              "         [0.],\n",
              "         [0.],\n",
              "         [1.],\n",
              "         [1.],\n",
              "         [0.],\n",
              "         [1.],\n",
              "         [1.],\n",
              "         [0.],\n",
              "         [1.],\n",
              "         [1.],\n",
              "         [0.],\n",
              "         [0.],\n",
              "         [1.],\n",
              "         [1.],\n",
              "         [0.],\n",
              "         [1.],\n",
              "         [0.],\n",
              "         [0.],\n",
              "         [0.],\n",
              "         [1.],\n",
              "         [1.],\n",
              "         [0.],\n",
              "         [1.],\n",
              "         [1.],\n",
              "         [1.],\n",
              "         [1.],\n",
              "         [1.],\n",
              "         [0.],\n",
              "         [0.],\n",
              "         [1.],\n",
              "         [1.],\n",
              "         [1.],\n",
              "         [1.],\n",
              "         [1.],\n",
              "         [1.],\n",
              "         [1.],\n",
              "         [0.],\n",
              "         [0.],\n",
              "         [1.],\n",
              "         [1.],\n",
              "         [1.],\n",
              "         [0.],\n",
              "         [1.],\n",
              "         [1.],\n",
              "         [0.],\n",
              "         [1.],\n",
              "         [0.],\n",
              "         [1.],\n",
              "         [1.],\n",
              "         [1.],\n",
              "         [1.],\n",
              "         [0.],\n",
              "         [1.],\n",
              "         [1.],\n",
              "         [0.],\n",
              "         [0.],\n",
              "         [1.],\n",
              "         [0.]]))"
            ]
          },
          "metadata": {},
          "execution_count": 182
        }
      ]
    },
    {
      "cell_type": "code",
      "source": [
        "# Splitting the data into training and testing sets\n",
        "X_train, X_test, y_train, y_test = train_test_split(X_tensor, y_tensor, test_size=0.2, random_state=42)\n"
      ],
      "metadata": {
        "id": "hg4noHFoeeb6"
      },
      "execution_count": null,
      "outputs": []
    },
    {
      "cell_type": "code",
      "source": [
        "len(X_train),len(y_train)"
      ],
      "metadata": {
        "colab": {
          "base_uri": "https://localhost:8080/"
        },
        "id": "xDPqVQSIe5GP",
        "outputId": "f607c949-7748-4bed-df8d-133a0548004e"
      },
      "execution_count": null,
      "outputs": [
        {
          "output_type": "execute_result",
          "data": {
            "text/plain": [
              "(91, 91)"
            ]
          },
          "metadata": {},
          "execution_count": 162
        }
      ]
    },
    {
      "cell_type": "code",
      "source": [
        "len(X_test),len(y_test)"
      ],
      "metadata": {
        "colab": {
          "base_uri": "https://localhost:8080/"
        },
        "id": "IsX6Ytrze83n",
        "outputId": "02c6c3f3-e86c-4999-cdea-8173ea07f712"
      },
      "execution_count": null,
      "outputs": [
        {
          "output_type": "execute_result",
          "data": {
            "text/plain": [
              "(23, 23)"
            ]
          },
          "metadata": {},
          "execution_count": 163
        }
      ]
    },
    {
      "cell_type": "code",
      "source": [
        "X_train.shape,y_train.shape"
      ],
      "metadata": {
        "colab": {
          "base_uri": "https://localhost:8080/"
        },
        "id": "0QgN_QsPfCSM",
        "outputId": "3220ec79-e63b-4db9-9a65-381692034498"
      },
      "execution_count": null,
      "outputs": [
        {
          "output_type": "execute_result",
          "data": {
            "text/plain": [
              "(torch.Size([91, 2]), torch.Size([91, 1]))"
            ]
          },
          "metadata": {},
          "execution_count": 164
        }
      ]
    },
    {
      "cell_type": "code",
      "source": [
        "# Creating DataLoader\n",
        "train_dataset = TensorDataset(X_train, y_train)\n",
        "train_loader = DataLoader(train_dataset, batch_size=8, shuffle=True)"
      ],
      "metadata": {
        "id": "VSNbwc_ZfFR_"
      },
      "execution_count": null,
      "outputs": []
    },
    {
      "cell_type": "code",
      "source": [
        "train_dataset[9]"
      ],
      "metadata": {
        "colab": {
          "base_uri": "https://localhost:8080/"
        },
        "id": "Ij-itTz4fr4l",
        "outputId": "63a19702-55e5-4760-c52e-ef35fcad7729"
      },
      "execution_count": null,
      "outputs": [
        {
          "output_type": "execute_result",
          "data": {
            "text/plain": [
              "(tensor([34.0130, 28.4702]), tensor([1.]))"
            ]
          },
          "metadata": {},
          "execution_count": 166
        }
      ]
    },
    {
      "cell_type": "code",
      "source": [
        "from torch import nn\n",
        "\n",
        "class simple_cnn(nn.Module):\n",
        "    def __init__(self):\n",
        "        super().__init__()\n",
        "        self.layer_1 = nn.Linear(in_features=2, out_features=10)\n",
        "        self.layer_2 = nn.Linear(in_features=10, out_features=10)\n",
        "        self.layer_3 = nn.Linear(in_features=10, out_features=1)\n",
        "        self.relu = nn.ReLU()\n",
        "        self.sigmoid = nn.Sigmoid()  # Adding Sigmoid activation\n",
        "\n",
        "    def forward(self, x):\n",
        "        x = self.relu(self.layer_1(x))\n",
        "        x = self.relu(self.layer_2(x))\n",
        "        x = self.sigmoid(self.layer_3(x))  # Applying Sigmoid activation at the end\n",
        "        return x"
      ],
      "metadata": {
        "id": "wS7u04p3fw7d"
      },
      "execution_count": null,
      "outputs": []
    },
    {
      "cell_type": "code",
      "source": [
        "model_1=simple_cnn()\n"
      ],
      "metadata": {
        "id": "2bWKrJ9bgce9"
      },
      "execution_count": null,
      "outputs": []
    },
    {
      "cell_type": "code",
      "source": [
        "model_1.state_dict()"
      ],
      "metadata": {
        "colab": {
          "base_uri": "https://localhost:8080/"
        },
        "id": "_nJvL_ykgizI",
        "outputId": "82049891-6b90-4099-e50d-5a84cea7936f"
      },
      "execution_count": null,
      "outputs": [
        {
          "output_type": "execute_result",
          "data": {
            "text/plain": [
              "OrderedDict([('layer_1.weight',\n",
              "              tensor([[ 0.0519,  0.2610],\n",
              "                      [-0.0565, -0.2569],\n",
              "                      [-0.5148, -0.1346],\n",
              "                      [-0.5972,  0.4837],\n",
              "                      [ 0.1007,  0.2835],\n",
              "                      [ 0.2109,  0.4194],\n",
              "                      [-0.6144, -0.1223],\n",
              "                      [ 0.1277, -0.1738],\n",
              "                      [-0.5831,  0.3649],\n",
              "                      [ 0.5661,  0.4179]])),\n",
              "             ('layer_1.bias',\n",
              "              tensor([-0.5630,  0.2945, -0.1594, -0.6525, -0.6625,  0.0048, -0.5101, -0.0289,\n",
              "                       0.1716,  0.3674])),\n",
              "             ('layer_2.weight',\n",
              "              tensor([[-0.2552, -0.1995,  0.1405,  0.2415, -0.2224,  0.1004,  0.0270,  0.2190,\n",
              "                        0.3124, -0.3068],\n",
              "                      [ 0.2294, -0.0768,  0.1455, -0.0329,  0.3102, -0.3086,  0.0684, -0.1142,\n",
              "                       -0.1439, -0.0648],\n",
              "                      [-0.0078, -0.2433,  0.0727, -0.0658, -0.0610,  0.2437, -0.3160, -0.0760,\n",
              "                        0.2152,  0.0292],\n",
              "                      [ 0.1561, -0.1696,  0.0695, -0.1282, -0.2878,  0.0033, -0.1133,  0.2087,\n",
              "                       -0.1509,  0.2138],\n",
              "                      [-0.2313, -0.1090,  0.0508, -0.0156,  0.2930,  0.3067,  0.2657, -0.0535,\n",
              "                       -0.1161,  0.1653],\n",
              "                      [-0.1500, -0.1280,  0.1348, -0.1800,  0.0505,  0.0901,  0.1517, -0.2103,\n",
              "                        0.0932, -0.2784],\n",
              "                      [ 0.1199,  0.2756,  0.2442, -0.1110,  0.3059,  0.1162,  0.2743,  0.2997,\n",
              "                       -0.1012,  0.1328],\n",
              "                      [-0.0088,  0.1895,  0.1066,  0.1637, -0.0865, -0.2393,  0.2306,  0.2735,\n",
              "                        0.0556,  0.2310],\n",
              "                      [-0.0718,  0.2747,  0.0385, -0.2083,  0.1947,  0.3051, -0.2182, -0.1579,\n",
              "                        0.2969, -0.2691],\n",
              "                      [-0.0590,  0.2459, -0.3000,  0.3137,  0.0833,  0.0005,  0.1370, -0.3154,\n",
              "                       -0.2266, -0.1828]])),\n",
              "             ('layer_2.bias',\n",
              "              tensor([-0.0382, -0.2726, -0.2134, -0.0607,  0.2742, -0.2628,  0.0083, -0.1581,\n",
              "                       0.0694, -0.0646])),\n",
              "             ('layer_3.weight',\n",
              "              tensor([[-0.1478,  0.2793, -0.1109, -0.1534,  0.3047,  0.0404,  0.1336, -0.1127,\n",
              "                        0.1993, -0.0402]])),\n",
              "             ('layer_3.bias', tensor([0.2244]))])"
            ]
          },
          "metadata": {},
          "execution_count": 169
        }
      ]
    },
    {
      "cell_type": "code",
      "source": [
        "model_1"
      ],
      "metadata": {
        "colab": {
          "base_uri": "https://localhost:8080/"
        },
        "id": "MHtLN1OwglWv",
        "outputId": "c1062561-aa1b-4127-fcaf-a980b3711c52"
      },
      "execution_count": null,
      "outputs": [
        {
          "output_type": "execute_result",
          "data": {
            "text/plain": [
              "simple_cnn(\n",
              "  (layer_1): Linear(in_features=2, out_features=10, bias=True)\n",
              "  (layer_2): Linear(in_features=10, out_features=10, bias=True)\n",
              "  (layer_3): Linear(in_features=10, out_features=1, bias=True)\n",
              "  (relu): ReLU()\n",
              "  (sigmoid): Sigmoid()\n",
              ")"
            ]
          },
          "metadata": {},
          "execution_count": 170
        }
      ]
    },
    {
      "cell_type": "code",
      "source": [
        "import torch.optim as optim\n",
        "\n",
        "loss_fn = nn.BCELoss()  # Binary Cross-Entropy Loss for binary classification\n",
        "optimizer = optim.Adam(model_1.parameters(), lr=0.01)"
      ],
      "metadata": {
        "id": "_ytzsHXPg_lj"
      },
      "execution_count": null,
      "outputs": []
    },
    {
      "cell_type": "code",
      "source": [
        "def accuracy_fn(y_true, y_pred):\n",
        "    correct = torch.eq(y_true, y_pred).sum().item() # torch.eq() calculates where two tensors are equal\n",
        "    acc = (correct / len(y_pred)) * 100\n",
        "    return acc"
      ],
      "metadata": {
        "id": "Ysx_GtxIh3dS"
      },
      "execution_count": null,
      "outputs": []
    },
    {
      "cell_type": "code",
      "source": [
        "epochs=1000\n",
        "loss_train=[]\n",
        "loss_test=[]\n",
        "for epoch in range(epochs):\n",
        "  model_1.train()\n",
        "  y_logits = model_1(X_train)\n",
        "  y_pred = torch.round(y_logits)\n",
        "  loss=loss_fn(y_logits,y_train)\n",
        "  acc=accuracy_fn(y_train,y_pred)\n",
        "\n",
        "  optimizer.zero_grad()\n",
        "\n",
        "  loss.backward()\n",
        "\n",
        "  optimizer.step()\n",
        "\n",
        "  model_1.eval()\n",
        "  with torch.inference_mode():\n",
        "    # 1. Forward pass\n",
        "        test_logits = model_1(X_test)\n",
        "        test_pred = torch.round(test_logits)\n",
        "        # 2. Caculate loss/accuracy\n",
        "        test_loss = loss_fn(test_logits,\n",
        "                            y_test)\n",
        "        test_acc = accuracy_fn(y_true=y_test,\n",
        "                               y_pred=test_pred)\n",
        "        loss_train.append(loss.detach().numpy())\n",
        "        loss_test.append(test_loss.detach().numpy())\n",
        "\n",
        "\n",
        "  if epoch%100 ==0:\n",
        "    print(f\"Epoch:{epoch},train_loss:{loss:.3f},test_loss:{test_loss:.3f},train_accuracy:{acc:.3f},test_acc:{test_acc:.3f}\")\n"
      ],
      "metadata": {
        "colab": {
          "base_uri": "https://localhost:8080/"
        },
        "id": "NnCwupyYiC2l",
        "outputId": "4740bdc7-8c51-4bd3-d38a-f5eef6e8087e"
      },
      "execution_count": null,
      "outputs": [
        {
          "output_type": "stream",
          "name": "stdout",
          "text": [
            "Epoch:0,train_loss:2.989,test_loss:1.134,train_accuracy:57.143,test_acc:73.913\n",
            "Epoch:100,train_loss:0.152,test_loss:0.196,train_accuracy:94.505,test_acc:91.304\n",
            "Epoch:200,train_loss:0.144,test_loss:0.226,train_accuracy:94.505,test_acc:91.304\n",
            "Epoch:300,train_loss:0.142,test_loss:0.231,train_accuracy:94.505,test_acc:91.304\n",
            "Epoch:400,train_loss:0.141,test_loss:0.234,train_accuracy:94.505,test_acc:91.304\n",
            "Epoch:500,train_loss:0.141,test_loss:0.238,train_accuracy:94.505,test_acc:91.304\n",
            "Epoch:600,train_loss:0.140,test_loss:0.241,train_accuracy:94.505,test_acc:91.304\n",
            "Epoch:700,train_loss:0.140,test_loss:0.245,train_accuracy:94.505,test_acc:91.304\n",
            "Epoch:800,train_loss:0.140,test_loss:0.247,train_accuracy:94.505,test_acc:91.304\n",
            "Epoch:900,train_loss:0.140,test_loss:0.249,train_accuracy:94.505,test_acc:91.304\n"
          ]
        }
      ]
    },
    {
      "cell_type": "code",
      "source": [
        "model_1.eval()\n",
        "with torch.inference_mode():\n",
        "   test_logits = model_1(X_test)\n",
        "   y_pred = torch.round(test_logits)\n",
        "\n",
        "plt.figure(figsize=(15,5))\n",
        "plt.subplot(1,3,1)\n",
        "plt.title(\"Trainingdata\")\n",
        "plt.xlabel('v')\n",
        "plt.ylabel('DS')\n",
        "plt.scatter(X_train[:,0],X_train[:,1],c=y_train, cmap='bwr', marker='^')\n",
        "\n",
        "plt.subplot(1,3,2)\n",
        "plt.title(\"Testingdata\")\n",
        "plt.xlabel('v')\n",
        "plt.ylabel('DS')\n",
        "plt.scatter(X_test[:,0],X_test[:,1],c=y_test,  cmap='bwr',marker='^')\n",
        "\n",
        "plt.subplot(1,3,3)\n",
        "plt.title(\"Evaluated adata\")\n",
        "plt.xlabel('v')\n",
        "plt.ylabel('DS')\n",
        "plt.scatter(X_test[:,0],X_test[:,1],c=y_pred,  cmap='bwr',marker='^')\n",
        "plt.show()"
      ],
      "metadata": {
        "colab": {
          "base_uri": "https://localhost:8080/",
          "height": 442
        },
        "id": "_oc3ZyxAjshU",
        "outputId": "7781bf83-9ba2-4ef4-89fc-94b46d113cd1"
      },
      "execution_count": null,
      "outputs": [
        {
          "output_type": "display_data",
          "data": {
            "text/plain": [
              "<Figure size 1500x500 with 3 Axes>"
            ],
            "image/png": "[encoded data removed]"
          },
          "metadata": {}
        }
      ]
    },
    {
      "cell_type": "code",
      "source": [
        "model_1.eval()\n",
        "with torch.no_grad():\n",
        "  predicted_values = model_1(X_test)\n",
        "  print(f\"predicted:{predicted_values}, real_values:{y_test}\")\n"
      ],
      "metadata": {
        "id": "sJOZeiUio_h4",
        "colab": {
          "base_uri": "https://localhost:8080/"
        },
        "outputId": "7b7c9715-deca-45e2-f85d-ae5d222670fa"
      },
      "execution_count": null,
      "outputs": [
        {
          "output_type": "stream",
          "name": "stdout",
          "text": [
            "predicted:tensor([[0.9996],\n",
            "        [0.9831],\n",
            "        [0.9868],\n",
            "        [0.9902],\n",
            "        [0.9999],\n",
            "        [0.8619],\n",
            "        [0.0252],\n",
            "        [0.0903],\n",
            "        [0.9997],\n",
            "        [0.8696],\n",
            "        [0.9979],\n",
            "        [0.9999],\n",
            "        [0.0386],\n",
            "        [0.9997],\n",
            "        [0.9994],\n",
            "        [0.9999],\n",
            "        [0.0027],\n",
            "        [0.9656],\n",
            "        [0.9988],\n",
            "        [1.0000],\n",
            "        [0.9999],\n",
            "        [0.9994],\n",
            "        [0.9985]]), real_values:tensor([[1.],\n",
            "        [1.],\n",
            "        [1.],\n",
            "        [1.],\n",
            "        [1.],\n",
            "        [1.],\n",
            "        [0.],\n",
            "        [0.],\n",
            "        [1.],\n",
            "        [0.],\n",
            "        [1.],\n",
            "        [1.],\n",
            "        [0.],\n",
            "        [1.],\n",
            "        [1.],\n",
            "        [1.],\n",
            "        [0.],\n",
            "        [0.],\n",
            "        [1.],\n",
            "        [1.],\n",
            "        [1.],\n",
            "        [1.],\n",
            "        [1.]])\n"
          ]
        }
      ]
    },
    {
      "cell_type": "code",
      "source": [
        "import numpy as np"
      ],
      "metadata": {
        "id": "GSEUVbn6MUzz"
      },
      "execution_count": null,
      "outputs": []
    },
    {
      "cell_type": "code",
      "source": [
        "lower_threshold = np.percentile(predicted_values,10)\n",
        "upper_threshold = np.percentile(predicted_values,90)\n",
        "\n",
        "print(lower_threshold, upper_threshold)"
      ],
      "metadata": {
        "colab": {
          "base_uri": "https://localhost:8080/"
        },
        "id": "u_-ZMJyqM6nq",
        "outputId": "734e299b-373f-4ba3-8fef-ba7f932c96d7"
      },
      "execution_count": null,
      "outputs": [
        {
          "output_type": "stream",
          "name": "stdout",
          "text": [
            "0.04892517775297166 0.9999118566513061\n"
          ]
        }
      ]
    },
    {
      "cell_type": "code",
      "source": [
        "low_risk =predicted_values[(predicted_values <lower_threshold)]\n",
        "high_risk =predicted_values[( predicted_values >upper_threshold)]\n",
        "medium_risk = predicted_values[(predicted_values >= lower_threshold) & (predicted_values <= upper_threshold)]\n",
        "\n",
        "print(low_risk, high_risk,medium_risk)"
      ],
      "metadata": {
        "colab": {
          "base_uri": "https://localhost:8080/"
        },
        "id": "IurVcpsBNHs4",
        "outputId": "08aebc5e-10cd-4f89-b5b5-31e16d86e3d4"
      },
      "execution_count": null,
      "outputs": [
        {
          "output_type": "stream",
          "name": "stdout",
          "text": [
            "tensor([0.0252, 0.0386, 0.0027]) tensor([0.9999, 0.9999, 1.0000]) tensor([0.9996, 0.9831, 0.9868, 0.9902, 0.8619, 0.0903, 0.9997, 0.8696, 0.9979,\n",
            "        0.9999, 0.9997, 0.9994, 0.9656, 0.9988, 0.9999, 0.9994, 0.9985])\n"
          ]
        }
      ]
    },
    {
      "cell_type": "code",
      "source": [
        "# Separate medium_risk based on condition\n",
        "medium_risk_blue = medium_risk[medium_risk < 0.5]\n",
        "medium_risk_red = medium_risk[medium_risk >= 0.5]"
      ],
      "metadata": {
        "id": "eydM__xma2Dt"
      },
      "execution_count": null,
      "outputs": []
    },
    {
      "cell_type": "code",
      "source": [
        "# Plotting\n",
        "plt.figure(figsize=(10, 6))\n",
        "\n",
        "\n",
        "# Plot points for medium_risk < 0.5 in blue\n",
        "plt.scatter(range(len(medium_risk_blue)), medium_risk_blue, color='blue', label=\"y=0\", marker=\"^\")\n",
        "\n",
        "# Plot points for medium_risk >= 0.5 in red\n",
        "plt.scatter(range(len(medium_risk_blue), len(medium_risk_blue) + len(medium_risk_red)), medium_risk_red, color='red', label='y=1', marker=\"^\")\n",
        "\n",
        "\n",
        "\n",
        "# Plot points for below 10% in blue\n",
        "plt.scatter(range(len(low_risk)), low_risk, color='blue', marker=\"^\")\n",
        "\n",
        "# # Plot points for between 10% and 90% in gray\n",
        "# plt.scatter(range(len(low_risk), len(low_risk) + len(medium_risk)), medium_risk, color='gray', label='Between 10% and 90%')\n",
        "\n",
        "# Plot points for above 90% in red\n",
        "plt.scatter(range(len(low_risk) + len(medium_risk), len(low_risk) + len(medium_risk) + len(high_risk)), high_risk, color='red', marker=\"^\")\n",
        "\n",
        "# Add vertical lines for thresholds\n",
        "plt.axhline(y=lower_threshold, color='r', linestyle='-', linewidth=2, label='10th Percentile')\n",
        "\n",
        "plt.axhline(y=upper_threshold, color='g', linestyle='-', linewidth=2, label='90th Percentile')\n",
        "\n",
        "\n",
        "# Annotate the 10th  and 90th percentile line with an arrow\n",
        "plt.annotate('10th Percentile', xy=(0, lower_threshold), xytext=(20, -20),\n",
        "             textcoords='offset points', ha='right', va='top',\n",
        "             arrowprops=dict(arrowstyle='->', color='grey', linewidth=3))\n",
        "plt.annotate('90th Percentile', xy=(0, upper_threshold), xytext=(20, 20),\n",
        "             textcoords='offset points', ha='right', va='bottom',\n",
        "             arrowprops=dict(arrowstyle='->', color='grey', linewidth=2))\n",
        "\n",
        "\n",
        "plt.xlabel('Sample Index')\n",
        "plt.ylabel('Predicted Value')\n",
        "plt.title('Predicted Values with 10% and 90% Thresholds')\n",
        "plt.legend()\n",
        "plt.grid(True)\n",
        "plt.show()"
      ],
      "metadata": {
        "colab": {
          "base_uri": "https://localhost:8080/",
          "height": 564
        },
        "id": "0Izbj_ylV1iN",
        "outputId": "e4e4f8c7-3b55-416e-c288-e7e9f035c635"
      },
      "execution_count": null,
      "outputs": [
        {
          "output_type": "display_data",
          "data": {
            "text/plain": [
              "<Figure size 1000x600 with 1 Axes>"
            ],
            "image/png": "[encoded data removed]"
          },
          "metadata": {}
        }
      ]
    },
    {
      "cell_type": "code",
      "source": [],
      "metadata": {
        "id": "_PhdIdMIN_Lb"
      },
      "execution_count": null,
      "outputs": []
    }
  ]
}